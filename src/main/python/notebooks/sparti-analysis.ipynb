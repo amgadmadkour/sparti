{
 "cells": [
  {
   "cell_type": "markdown",
   "metadata": {
    "collapsed": true
   },
   "source": [
    "# Query-Centric Semantic Partitioning (SPARTI)"
   ]
  },
  {
   "cell_type": "markdown",
   "metadata": {
    "collapsed": true
   },
   "source": [
    "Run FP-Growth Algorithm to determine the most frequent patterns"
   ]
  },
  {
   "cell_type": "code",
   "execution_count": 1,
   "metadata": {
    "collapsed": true
   },
   "outputs": [],
   "source": [
    "data = sc.textFile(\"hdfs://localhost:9000/user/amadkour/datasets/parsedoutput.txt\")\n",
    "filtereddata = data.filter(lambda line: len(line.strip().split(' ')) >= 2)\n",
    "transactions = filtereddata.map(lambda line: line.strip().split(' '))"
   ]
  },
  {
   "cell_type": "markdown",
   "metadata": {},
   "source": [
    "The number of entries/transactions are:"
   ]
  },
  {
   "cell_type": "code",
   "execution_count": 2,
   "metadata": {
    "collapsed": false
   },
   "outputs": [
    {
     "data": {
      "text/plain": [
       "347793"
      ]
     },
     "execution_count": 2,
     "metadata": {},
     "output_type": "execute_result"
    }
   ],
   "source": [
    "transactions.count()"
   ]
  },
  {
   "cell_type": "code",
   "execution_count": 3,
   "metadata": {
    "collapsed": false,
    "scrolled": true
   },
   "outputs": [
    {
     "name": "stdout",
     "output_type": "stream",
     "text": [
      "[u'http://dbpedia.org/ontology/country', u'http://www.w3.org/1999/02/22-rdf-syntax-ns#type']\n",
      "[u'http://dbpedia.org/ontology/country', u'http://www.w3.org/1999/02/22-rdf-syntax-ns#type', u'http://www.w3.org/2000/01/rdf-schema#label']\n",
      "[u'http://dbpedia.org/ontology/country', u'http://www.w3.org/2000/01/rdf-schema#label']\n",
      "[u'http://www.w3.org/1999/02/22-rdf-syntax-ns#type', u'http://www.w3.org/2000/01/rdf-schema#label']\n",
      "[u'http://dbpedia.org/ontology/thumbnail', u'http://www.w3.org/2000/01/rdf-schema#label']\n",
      "[u'http://www.w3.org/2004/02/skos/core#broader', u'http://purl.org/dc/terms/subject']\n",
      "[u'http://www.w3.org/2003/01/geo/wgs84_pos#long', u'http://www.w3.org/2003/01/geo/wgs84_pos#lat']\n",
      "[u'http://www.w3.org/2004/02/skos/core#prefLabel', u'http://www.w3.org/2004/02/skos/core#broader']\n",
      "[u'http://www.w3.org/2004/02/skos/core#prefLabel', u'http://www.w3.org/2004/02/skos/core#broader', u'http://purl.org/dc/terms/subject']\n",
      "[u'http://www.w3.org/2004/02/skos/core#prefLabel', u'http://purl.org/dc/terms/subject']\n"
     ]
    }
   ],
   "source": [
    "from pyspark.mllib.fpm import FPGrowth\n",
    "\n",
    "modelfpg = FPGrowth.train(transactions, minSupport=0.08, numPartitions=4)\n",
    "result = modelfpg.freqItemsets().collect()\n",
    "for fi in result:\n",
    "    if len(fi[0]) > 1:\n",
    "        print(fi[0])"
   ]
  },
  {
   "cell_type": "markdown",
   "metadata": {},
   "source": [
    "Next, we will attempt to see how this would perform under word2vec"
   ]
  },
  {
   "cell_type": "code",
   "execution_count": 4,
   "metadata": {
    "collapsed": false,
    "scrolled": true
   },
   "outputs": [],
   "source": [
    "from pyspark.mllib.feature import Word2Vec\n",
    "\n",
    "word2vec = Word2Vec()\n",
    "word2vec.setLearningRate(0.05)\n",
    "word2vec.setMinCount(100)\n",
    "modelw2v = word2vec.fit(transactions)"
   ]
  },
  {
   "cell_type": "markdown",
   "metadata": {},
   "source": [
    "Using the word2vec, we obtain the following:"
   ]
  },
  {
   "cell_type": "code",
   "execution_count": 5,
   "metadata": {
    "collapsed": false
   },
   "outputs": [
    {
     "name": "stdout",
     "output_type": "stream",
     "text": [
      "http://www.w3.org/1999/02/22-rdf-syntax-ns#type : 1.21623571296\n",
      "http://www.w3.org/2000/01/rdf-schema#subClassOf : 1.20385914074\n",
      "http://www.w3.org/2000/01/rdf-schema#label : 1.18294444618\n",
      "http://dbpedia.org/property/populationCensus : 1.14484372829\n",
      "http://dbpedia.org/property/populationEstimate : 1.13115934062\n",
      "http://dbpedia.org/ontology/language : 1.07629413415\n",
      "http://dbpedia.org/property/currency : 0.975898747114\n",
      "http://dbpedia.org/property/country : 0.962037671681\n",
      "bif:contains : 0.946819285897\n",
      "http://dbpedia.org/ontology/abstract : 0.940576365816\n"
     ]
    }
   ],
   "source": [
    "synonyms = modelw2v.findSynonyms('http://dbpedia.org/ontology/country', 10)\n",
    "for word, cosine_distance in synonyms:\n",
    "    print(\"{} : {}\".format(word, cosine_distance))"
   ]
  },
  {
   "cell_type": "markdown",
   "metadata": {},
   "source": [
    "Next, we will attempt to see how this would perform under GloVe (We still need to know how to filter based on word-cooccurences)"
   ]
  },
  {
   "cell_type": "code",
   "execution_count": 6,
   "metadata": {
    "collapsed": false
   },
   "outputs": [],
   "source": [
    "from __future__ import print_function\n",
    "import argparse\n",
    "import pprint\n",
    "import gensim\n",
    "\n",
    "from glove import Glove\n",
    "from glove import Corpus\n",
    "\n",
    "corpus_model = Corpus()\n",
    "corpus_model.fit(transactions.collect())\n",
    "\n",
    "\n",
    "glove = Glove(learning_rate=0.05)\n",
    "glove.fit(corpus_model.matrix,no_threads=8)\n",
    "glove.add_dictionary(corpus_model.dictionary)"
   ]
  },
  {
   "cell_type": "markdown",
   "metadata": {},
   "source": [
    "Using the GloVe model:"
   ]
  },
  {
   "cell_type": "code",
   "execution_count": 9,
   "metadata": {
    "collapsed": false
   },
   "outputs": [
    {
     "name": "stdout",
     "output_type": "stream",
     "text": [
      "http://dbpedia.org/ontology/populationTotal : 0.998675068977\n",
      "http://dbpedia.org/ontology/currency : 0.995637170392\n",
      "http://dbpedia.org/ontology/author : 0.995277772094\n",
      "http://dbpedia.org/property/densityrank : 0.994142278242\n",
      "http://dbpedia.org/ontology/populationDensity : 0.993767780191\n",
      "http://dbpedia.org/ontology/leaderName : 0.993577761598\n",
      "http://dbpedia.org/ontology/areaTotal : 0.993363884078\n",
      "http://www.w3.org/2000/01/rdf-schema#subClassOf : 0.992752886787\n",
      "http://www.w3.org/2004/02/skos/core#prefLabel : 0.992731451232\n",
      "http://dbpedia.org/ontology/wikiPageRedirects : 0.991522760901\n"
     ]
    }
   ],
   "source": [
    "glovesynonyms = glove.most_similar(\"http://dbpedia.org/ontology/country\", number=11)\n",
    "for word, cosine_distance in glovesynonyms:\n",
    "    print(\"{} : {}\".format(word, cosine_distance))"
   ]
  },
  {
   "cell_type": "code",
   "execution_count": null,
   "metadata": {
    "collapsed": true
   },
   "outputs": [],
   "source": [
    ""
   ]
  }
 ],
 "metadata": {
  "kernelspec": {
   "display_name": "Python 2",
   "language": "python",
   "name": "python2"
  },
  "language_info": {
   "codemirror_mode": {
    "name": "ipython",
    "version": 2.0
   },
   "file_extension": ".py",
   "mimetype": "text/x-python",
   "name": "python",
   "nbconvert_exporter": "python",
   "pygments_lexer": "ipython2",
   "version": "2.7.11"
  }
 },
 "nbformat": 4,
 "nbformat_minor": 0
}